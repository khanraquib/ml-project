{
  "nbformat": 4,
  "nbformat_minor": 0,
  "metadata": {
    "colab": {
      "name": "Concret.ipynb",
      "provenance": [],
      "collapsed_sections": []
    },
    "kernelspec": {
      "name": "python3",
      "display_name": "Python 3"
    }
  },
  "cells": [
    {
      "cell_type": "code",
      "metadata": {
        "id": "qxFRPS9yk0Fa",
        "colab_type": "code",
        "colab": {}
      },
      "source": [
        "import numpy as np\n",
        "import pandas as pd\n",
        "import matplotlib.pyplot as plt\n"
      ],
      "execution_count": 1,
      "outputs": []
    },
    {
      "cell_type": "code",
      "metadata": {
        "id": "-3xjy9mRoASs",
        "colab_type": "code",
        "colab": {
          "base_uri": "https://localhost:8080/",
          "height": 433
        },
        "outputId": "81e69871-8f86-45cf-a1f6-49b9de7862db"
      },
      "source": [
        "data=pd.read_csv('/content/Concrete_compressive_strength.csv')\n",
        "data"
      ],
      "execution_count": 2,
      "outputs": [
        {
          "output_type": "execute_result",
          "data": {
            "text/html": [
              "<div>\n",
              "<style scoped>\n",
              "    .dataframe tbody tr th:only-of-type {\n",
              "        vertical-align: middle;\n",
              "    }\n",
              "\n",
              "    .dataframe tbody tr th {\n",
              "        vertical-align: top;\n",
              "    }\n",
              "\n",
              "    .dataframe thead th {\n",
              "        text-align: right;\n",
              "    }\n",
              "</style>\n",
              "<table border=\"1\" class=\"dataframe\">\n",
              "  <thead>\n",
              "    <tr style=\"text-align: right;\">\n",
              "      <th></th>\n",
              "      <th>Cement (component 1)(kg in a m^3 mixture)</th>\n",
              "      <th>Blast Furnace Slag (component 2)(kg in a m^3 mixture)</th>\n",
              "      <th>Fly Ash (component 3)(kg in a m^3 mixture)</th>\n",
              "      <th>Water</th>\n",
              "      <th>Superplasticizer (component 5)(kg in a m^3 mixture)</th>\n",
              "      <th>Coarse_agg</th>\n",
              "      <th>Fine Aggregate (component 7)(kg in a m^3 mixture)</th>\n",
              "      <th>Age (day)</th>\n",
              "      <th>Strength</th>\n",
              "    </tr>\n",
              "  </thead>\n",
              "  <tbody>\n",
              "    <tr>\n",
              "      <th>0</th>\n",
              "      <td>540.0</td>\n",
              "      <td>0.0</td>\n",
              "      <td>0.0</td>\n",
              "      <td>162.0</td>\n",
              "      <td>2.5</td>\n",
              "      <td>1040.0</td>\n",
              "      <td>676.0</td>\n",
              "      <td>28</td>\n",
              "      <td>79.99</td>\n",
              "    </tr>\n",
              "    <tr>\n",
              "      <th>1</th>\n",
              "      <td>540.0</td>\n",
              "      <td>0.0</td>\n",
              "      <td>0.0</td>\n",
              "      <td>162.0</td>\n",
              "      <td>2.5</td>\n",
              "      <td>1055.0</td>\n",
              "      <td>676.0</td>\n",
              "      <td>28</td>\n",
              "      <td>61.89</td>\n",
              "    </tr>\n",
              "    <tr>\n",
              "      <th>2</th>\n",
              "      <td>332.5</td>\n",
              "      <td>142.5</td>\n",
              "      <td>0.0</td>\n",
              "      <td>228.0</td>\n",
              "      <td>0.0</td>\n",
              "      <td>932.0</td>\n",
              "      <td>594.0</td>\n",
              "      <td>270</td>\n",
              "      <td>40.27</td>\n",
              "    </tr>\n",
              "    <tr>\n",
              "      <th>3</th>\n",
              "      <td>332.5</td>\n",
              "      <td>142.5</td>\n",
              "      <td>0.0</td>\n",
              "      <td>228.0</td>\n",
              "      <td>0.0</td>\n",
              "      <td>932.0</td>\n",
              "      <td>594.0</td>\n",
              "      <td>365</td>\n",
              "      <td>41.05</td>\n",
              "    </tr>\n",
              "    <tr>\n",
              "      <th>4</th>\n",
              "      <td>198.6</td>\n",
              "      <td>132.4</td>\n",
              "      <td>0.0</td>\n",
              "      <td>192.0</td>\n",
              "      <td>0.0</td>\n",
              "      <td>978.4</td>\n",
              "      <td>825.5</td>\n",
              "      <td>360</td>\n",
              "      <td>44.30</td>\n",
              "    </tr>\n",
              "    <tr>\n",
              "      <th>...</th>\n",
              "      <td>...</td>\n",
              "      <td>...</td>\n",
              "      <td>...</td>\n",
              "      <td>...</td>\n",
              "      <td>...</td>\n",
              "      <td>...</td>\n",
              "      <td>...</td>\n",
              "      <td>...</td>\n",
              "      <td>...</td>\n",
              "    </tr>\n",
              "    <tr>\n",
              "      <th>1025</th>\n",
              "      <td>276.4</td>\n",
              "      <td>116.0</td>\n",
              "      <td>90.3</td>\n",
              "      <td>179.6</td>\n",
              "      <td>8.9</td>\n",
              "      <td>870.1</td>\n",
              "      <td>768.3</td>\n",
              "      <td>28</td>\n",
              "      <td>44.28</td>\n",
              "    </tr>\n",
              "    <tr>\n",
              "      <th>1026</th>\n",
              "      <td>322.2</td>\n",
              "      <td>0.0</td>\n",
              "      <td>115.6</td>\n",
              "      <td>196.0</td>\n",
              "      <td>10.4</td>\n",
              "      <td>817.9</td>\n",
              "      <td>813.4</td>\n",
              "      <td>28</td>\n",
              "      <td>31.18</td>\n",
              "    </tr>\n",
              "    <tr>\n",
              "      <th>1027</th>\n",
              "      <td>148.5</td>\n",
              "      <td>139.4</td>\n",
              "      <td>108.6</td>\n",
              "      <td>192.7</td>\n",
              "      <td>6.1</td>\n",
              "      <td>892.4</td>\n",
              "      <td>780.0</td>\n",
              "      <td>28</td>\n",
              "      <td>23.70</td>\n",
              "    </tr>\n",
              "    <tr>\n",
              "      <th>1028</th>\n",
              "      <td>159.1</td>\n",
              "      <td>186.7</td>\n",
              "      <td>0.0</td>\n",
              "      <td>175.6</td>\n",
              "      <td>11.3</td>\n",
              "      <td>989.6</td>\n",
              "      <td>788.9</td>\n",
              "      <td>28</td>\n",
              "      <td>32.77</td>\n",
              "    </tr>\n",
              "    <tr>\n",
              "      <th>1029</th>\n",
              "      <td>260.9</td>\n",
              "      <td>100.5</td>\n",
              "      <td>78.3</td>\n",
              "      <td>200.6</td>\n",
              "      <td>8.6</td>\n",
              "      <td>864.5</td>\n",
              "      <td>761.5</td>\n",
              "      <td>28</td>\n",
              "      <td>32.40</td>\n",
              "    </tr>\n",
              "  </tbody>\n",
              "</table>\n",
              "<p>1030 rows × 9 columns</p>\n",
              "</div>"
            ],
            "text/plain": [
              "      Cement (component 1)(kg in a m^3 mixture)  ...  Strength\n",
              "0                                         540.0  ...     79.99\n",
              "1                                         540.0  ...     61.89\n",
              "2                                         332.5  ...     40.27\n",
              "3                                         332.5  ...     41.05\n",
              "4                                         198.6  ...     44.30\n",
              "...                                         ...  ...       ...\n",
              "1025                                      276.4  ...     44.28\n",
              "1026                                      322.2  ...     31.18\n",
              "1027                                      148.5  ...     23.70\n",
              "1028                                      159.1  ...     32.77\n",
              "1029                                      260.9  ...     32.40\n",
              "\n",
              "[1030 rows x 9 columns]"
            ]
          },
          "metadata": {
            "tags": []
          },
          "execution_count": 2
        }
      ]
    },
    {
      "cell_type": "code",
      "metadata": {
        "id": "VzMhhvr_pPq0",
        "colab_type": "code",
        "colab": {
          "base_uri": "https://localhost:8080/",
          "height": 374
        },
        "outputId": "a91d5bf2-1738-43f0-fb99-ba9f6d023988"
      },
      "source": [
        "data.head(10)"
      ],
      "execution_count": 3,
      "outputs": [
        {
          "output_type": "execute_result",
          "data": {
            "text/html": [
              "<div>\n",
              "<style scoped>\n",
              "    .dataframe tbody tr th:only-of-type {\n",
              "        vertical-align: middle;\n",
              "    }\n",
              "\n",
              "    .dataframe tbody tr th {\n",
              "        vertical-align: top;\n",
              "    }\n",
              "\n",
              "    .dataframe thead th {\n",
              "        text-align: right;\n",
              "    }\n",
              "</style>\n",
              "<table border=\"1\" class=\"dataframe\">\n",
              "  <thead>\n",
              "    <tr style=\"text-align: right;\">\n",
              "      <th></th>\n",
              "      <th>Cement (component 1)(kg in a m^3 mixture)</th>\n",
              "      <th>Blast Furnace Slag (component 2)(kg in a m^3 mixture)</th>\n",
              "      <th>Fly Ash (component 3)(kg in a m^3 mixture)</th>\n",
              "      <th>Water</th>\n",
              "      <th>Superplasticizer (component 5)(kg in a m^3 mixture)</th>\n",
              "      <th>Coarse_agg</th>\n",
              "      <th>Fine Aggregate (component 7)(kg in a m^3 mixture)</th>\n",
              "      <th>Age (day)</th>\n",
              "      <th>Strength</th>\n",
              "    </tr>\n",
              "  </thead>\n",
              "  <tbody>\n",
              "    <tr>\n",
              "      <th>0</th>\n",
              "      <td>540.0</td>\n",
              "      <td>0.0</td>\n",
              "      <td>0.0</td>\n",
              "      <td>162.0</td>\n",
              "      <td>2.5</td>\n",
              "      <td>1040.0</td>\n",
              "      <td>676.0</td>\n",
              "      <td>28</td>\n",
              "      <td>79.99</td>\n",
              "    </tr>\n",
              "    <tr>\n",
              "      <th>1</th>\n",
              "      <td>540.0</td>\n",
              "      <td>0.0</td>\n",
              "      <td>0.0</td>\n",
              "      <td>162.0</td>\n",
              "      <td>2.5</td>\n",
              "      <td>1055.0</td>\n",
              "      <td>676.0</td>\n",
              "      <td>28</td>\n",
              "      <td>61.89</td>\n",
              "    </tr>\n",
              "    <tr>\n",
              "      <th>2</th>\n",
              "      <td>332.5</td>\n",
              "      <td>142.5</td>\n",
              "      <td>0.0</td>\n",
              "      <td>228.0</td>\n",
              "      <td>0.0</td>\n",
              "      <td>932.0</td>\n",
              "      <td>594.0</td>\n",
              "      <td>270</td>\n",
              "      <td>40.27</td>\n",
              "    </tr>\n",
              "    <tr>\n",
              "      <th>3</th>\n",
              "      <td>332.5</td>\n",
              "      <td>142.5</td>\n",
              "      <td>0.0</td>\n",
              "      <td>228.0</td>\n",
              "      <td>0.0</td>\n",
              "      <td>932.0</td>\n",
              "      <td>594.0</td>\n",
              "      <td>365</td>\n",
              "      <td>41.05</td>\n",
              "    </tr>\n",
              "    <tr>\n",
              "      <th>4</th>\n",
              "      <td>198.6</td>\n",
              "      <td>132.4</td>\n",
              "      <td>0.0</td>\n",
              "      <td>192.0</td>\n",
              "      <td>0.0</td>\n",
              "      <td>978.4</td>\n",
              "      <td>825.5</td>\n",
              "      <td>360</td>\n",
              "      <td>44.30</td>\n",
              "    </tr>\n",
              "    <tr>\n",
              "      <th>5</th>\n",
              "      <td>266.0</td>\n",
              "      <td>114.0</td>\n",
              "      <td>0.0</td>\n",
              "      <td>228.0</td>\n",
              "      <td>0.0</td>\n",
              "      <td>932.0</td>\n",
              "      <td>670.0</td>\n",
              "      <td>90</td>\n",
              "      <td>47.03</td>\n",
              "    </tr>\n",
              "    <tr>\n",
              "      <th>6</th>\n",
              "      <td>380.0</td>\n",
              "      <td>95.0</td>\n",
              "      <td>0.0</td>\n",
              "      <td>228.0</td>\n",
              "      <td>0.0</td>\n",
              "      <td>932.0</td>\n",
              "      <td>594.0</td>\n",
              "      <td>365</td>\n",
              "      <td>43.70</td>\n",
              "    </tr>\n",
              "    <tr>\n",
              "      <th>7</th>\n",
              "      <td>380.0</td>\n",
              "      <td>95.0</td>\n",
              "      <td>0.0</td>\n",
              "      <td>228.0</td>\n",
              "      <td>0.0</td>\n",
              "      <td>932.0</td>\n",
              "      <td>594.0</td>\n",
              "      <td>28</td>\n",
              "      <td>36.45</td>\n",
              "    </tr>\n",
              "    <tr>\n",
              "      <th>8</th>\n",
              "      <td>266.0</td>\n",
              "      <td>114.0</td>\n",
              "      <td>0.0</td>\n",
              "      <td>228.0</td>\n",
              "      <td>0.0</td>\n",
              "      <td>932.0</td>\n",
              "      <td>670.0</td>\n",
              "      <td>28</td>\n",
              "      <td>45.85</td>\n",
              "    </tr>\n",
              "    <tr>\n",
              "      <th>9</th>\n",
              "      <td>475.0</td>\n",
              "      <td>0.0</td>\n",
              "      <td>0.0</td>\n",
              "      <td>228.0</td>\n",
              "      <td>0.0</td>\n",
              "      <td>932.0</td>\n",
              "      <td>594.0</td>\n",
              "      <td>28</td>\n",
              "      <td>39.29</td>\n",
              "    </tr>\n",
              "  </tbody>\n",
              "</table>\n",
              "</div>"
            ],
            "text/plain": [
              "   Cement (component 1)(kg in a m^3 mixture)  ...  Strength\n",
              "0                                      540.0  ...     79.99\n",
              "1                                      540.0  ...     61.89\n",
              "2                                      332.5  ...     40.27\n",
              "3                                      332.5  ...     41.05\n",
              "4                                      198.6  ...     44.30\n",
              "5                                      266.0  ...     47.03\n",
              "6                                      380.0  ...     43.70\n",
              "7                                      380.0  ...     36.45\n",
              "8                                      266.0  ...     45.85\n",
              "9                                      475.0  ...     39.29\n",
              "\n",
              "[10 rows x 9 columns]"
            ]
          },
          "metadata": {
            "tags": []
          },
          "execution_count": 3
        }
      ]
    },
    {
      "cell_type": "code",
      "metadata": {
        "id": "jIY8cZMKp0M1",
        "colab_type": "code",
        "colab": {
          "base_uri": "https://localhost:8080/",
          "height": 497
        },
        "outputId": "91f54aa7-ab3b-4ab0-aa24-551864f7b818"
      },
      "source": [
        "cor=data.corr()\n",
        "cor"
      ],
      "execution_count": 4,
      "outputs": [
        {
          "output_type": "execute_result",
          "data": {
            "text/html": [
              "<div>\n",
              "<style scoped>\n",
              "    .dataframe tbody tr th:only-of-type {\n",
              "        vertical-align: middle;\n",
              "    }\n",
              "\n",
              "    .dataframe tbody tr th {\n",
              "        vertical-align: top;\n",
              "    }\n",
              "\n",
              "    .dataframe thead th {\n",
              "        text-align: right;\n",
              "    }\n",
              "</style>\n",
              "<table border=\"1\" class=\"dataframe\">\n",
              "  <thead>\n",
              "    <tr style=\"text-align: right;\">\n",
              "      <th></th>\n",
              "      <th>Cement (component 1)(kg in a m^3 mixture)</th>\n",
              "      <th>Blast Furnace Slag (component 2)(kg in a m^3 mixture)</th>\n",
              "      <th>Fly Ash (component 3)(kg in a m^3 mixture)</th>\n",
              "      <th>Water</th>\n",
              "      <th>Superplasticizer (component 5)(kg in a m^3 mixture)</th>\n",
              "      <th>Coarse_agg</th>\n",
              "      <th>Fine Aggregate (component 7)(kg in a m^3 mixture)</th>\n",
              "      <th>Age (day)</th>\n",
              "      <th>Strength</th>\n",
              "    </tr>\n",
              "  </thead>\n",
              "  <tbody>\n",
              "    <tr>\n",
              "      <th>Cement (component 1)(kg in a m^3 mixture)</th>\n",
              "      <td>1.000000</td>\n",
              "      <td>-0.275216</td>\n",
              "      <td>-0.397467</td>\n",
              "      <td>-0.081587</td>\n",
              "      <td>0.092386</td>\n",
              "      <td>-0.109349</td>\n",
              "      <td>-0.222718</td>\n",
              "      <td>0.081946</td>\n",
              "      <td>0.497832</td>\n",
              "    </tr>\n",
              "    <tr>\n",
              "      <th>Blast Furnace Slag (component 2)(kg in a m^3 mixture)</th>\n",
              "      <td>-0.275216</td>\n",
              "      <td>1.000000</td>\n",
              "      <td>-0.323580</td>\n",
              "      <td>0.107252</td>\n",
              "      <td>0.043270</td>\n",
              "      <td>-0.283999</td>\n",
              "      <td>-0.281603</td>\n",
              "      <td>-0.044246</td>\n",
              "      <td>0.134829</td>\n",
              "    </tr>\n",
              "    <tr>\n",
              "      <th>Fly Ash (component 3)(kg in a m^3 mixture)</th>\n",
              "      <td>-0.397467</td>\n",
              "      <td>-0.323580</td>\n",
              "      <td>1.000000</td>\n",
              "      <td>-0.256984</td>\n",
              "      <td>0.377503</td>\n",
              "      <td>-0.009961</td>\n",
              "      <td>0.079108</td>\n",
              "      <td>-0.154371</td>\n",
              "      <td>-0.105755</td>\n",
              "    </tr>\n",
              "    <tr>\n",
              "      <th>Water</th>\n",
              "      <td>-0.081587</td>\n",
              "      <td>0.107252</td>\n",
              "      <td>-0.256984</td>\n",
              "      <td>1.000000</td>\n",
              "      <td>-0.657533</td>\n",
              "      <td>-0.182294</td>\n",
              "      <td>-0.450661</td>\n",
              "      <td>0.277618</td>\n",
              "      <td>-0.289633</td>\n",
              "    </tr>\n",
              "    <tr>\n",
              "      <th>Superplasticizer (component 5)(kg in a m^3 mixture)</th>\n",
              "      <td>0.092386</td>\n",
              "      <td>0.043270</td>\n",
              "      <td>0.377503</td>\n",
              "      <td>-0.657533</td>\n",
              "      <td>1.000000</td>\n",
              "      <td>-0.265999</td>\n",
              "      <td>0.222691</td>\n",
              "      <td>-0.192700</td>\n",
              "      <td>0.366079</td>\n",
              "    </tr>\n",
              "    <tr>\n",
              "      <th>Coarse_agg</th>\n",
              "      <td>-0.109349</td>\n",
              "      <td>-0.283999</td>\n",
              "      <td>-0.009961</td>\n",
              "      <td>-0.182294</td>\n",
              "      <td>-0.265999</td>\n",
              "      <td>1.000000</td>\n",
              "      <td>-0.178481</td>\n",
              "      <td>-0.003016</td>\n",
              "      <td>-0.164935</td>\n",
              "    </tr>\n",
              "    <tr>\n",
              "      <th>Fine Aggregate (component 7)(kg in a m^3 mixture)</th>\n",
              "      <td>-0.222718</td>\n",
              "      <td>-0.281603</td>\n",
              "      <td>0.079108</td>\n",
              "      <td>-0.450661</td>\n",
              "      <td>0.222691</td>\n",
              "      <td>-0.178481</td>\n",
              "      <td>1.000000</td>\n",
              "      <td>-0.156095</td>\n",
              "      <td>-0.167241</td>\n",
              "    </tr>\n",
              "    <tr>\n",
              "      <th>Age (day)</th>\n",
              "      <td>0.081946</td>\n",
              "      <td>-0.044246</td>\n",
              "      <td>-0.154371</td>\n",
              "      <td>0.277618</td>\n",
              "      <td>-0.192700</td>\n",
              "      <td>-0.003016</td>\n",
              "      <td>-0.156095</td>\n",
              "      <td>1.000000</td>\n",
              "      <td>0.328873</td>\n",
              "    </tr>\n",
              "    <tr>\n",
              "      <th>Strength</th>\n",
              "      <td>0.497832</td>\n",
              "      <td>0.134829</td>\n",
              "      <td>-0.105755</td>\n",
              "      <td>-0.289633</td>\n",
              "      <td>0.366079</td>\n",
              "      <td>-0.164935</td>\n",
              "      <td>-0.167241</td>\n",
              "      <td>0.328873</td>\n",
              "      <td>1.000000</td>\n",
              "    </tr>\n",
              "  </tbody>\n",
              "</table>\n",
              "</div>"
            ],
            "text/plain": [
              "                                                    Cement (component 1)(kg in a m^3 mixture)  ...  Strength\n",
              "Cement (component 1)(kg in a m^3 mixture)                                            1.000000  ...  0.497832\n",
              "Blast Furnace Slag (component 2)(kg in a m^3 mi...                                  -0.275216  ...  0.134829\n",
              "Fly Ash (component 3)(kg in a m^3 mixture)                                          -0.397467  ... -0.105755\n",
              "Water                                                                               -0.081587  ... -0.289633\n",
              "Superplasticizer (component 5)(kg in a m^3 mixt...                                   0.092386  ...  0.366079\n",
              "Coarse_agg                                                                          -0.109349  ... -0.164935\n",
              "Fine Aggregate (component 7)(kg in a m^3 mixture)                                   -0.222718  ... -0.167241\n",
              "Age (day)                                                                            0.081946  ...  0.328873\n",
              "Strength                                                                             0.497832  ...  1.000000\n",
              "\n",
              "[9 rows x 9 columns]"
            ]
          },
          "metadata": {
            "tags": []
          },
          "execution_count": 4
        }
      ]
    },
    {
      "cell_type": "code",
      "metadata": {
        "id": "f5WxJMVcqtTj",
        "colab_type": "code",
        "colab": {
          "base_uri": "https://localhost:8080/",
          "height": 195
        },
        "outputId": "623a6e4e-810f-49e9-d7f3-6280767cba81"
      },
      "source": [
        "abs(cor.loc['Strength']).sort_values(ascending=False)"
      ],
      "execution_count": 5,
      "outputs": [
        {
          "output_type": "execute_result",
          "data": {
            "text/plain": [
              "Strength                                                 1.000000\n",
              "Cement (component 1)(kg in a m^3 mixture)                0.497832\n",
              "Superplasticizer (component 5)(kg in a m^3 mixture)      0.366079\n",
              "Age (day)                                                0.328873\n",
              "Water                                                    0.289633\n",
              "Fine Aggregate (component 7)(kg in a m^3 mixture)        0.167241\n",
              "Coarse_agg                                               0.164935\n",
              "Blast Furnace Slag (component 2)(kg in a m^3 mixture)    0.134829\n",
              "Fly Ash (component 3)(kg in a m^3 mixture)               0.105755\n",
              "Name: Strength, dtype: float64"
            ]
          },
          "metadata": {
            "tags": []
          },
          "execution_count": 5
        }
      ]
    },
    {
      "cell_type": "code",
      "metadata": {
        "id": "t8AuR5ZOrqMU",
        "colab_type": "code",
        "colab": {}
      },
      "source": [
        "x=data['Strength']\n",
        "y=data['Cement (component 1)(kg in a m^3 mixture)']\n",
        "x=np.array(x/x.mean())\n",
        "y=np.array(y/y.mean())"
      ],
      "execution_count": 6,
      "outputs": []
    },
    {
      "cell_type": "code",
      "metadata": {
        "id": "rCkyGE2qslC7",
        "colab_type": "code",
        "colab": {
          "base_uri": "https://localhost:8080/",
          "height": 52
        },
        "outputId": "9a32025b-95c8-4027-97e2-7cdf5ee0925d"
      },
      "source": [
        "print(np.shape(x))\n",
        "print(np.shape(y))"
      ],
      "execution_count": 7,
      "outputs": [
        {
          "output_type": "stream",
          "text": [
            "(1030,)\n",
            "(1030,)\n"
          ],
          "name": "stdout"
        }
      ]
    },
    {
      "cell_type": "code",
      "metadata": {
        "id": "F1CckGnNunhI",
        "colab_type": "code",
        "colab": {
          "base_uri": "https://localhost:8080/",
          "height": 52
        },
        "outputId": "d3b770d4-9cc1-464c-c1c4-782f1fab7c6e"
      },
      "source": [
        "print(x)\n",
        "print(y)"
      ],
      "execution_count": 8,
      "outputs": [
        {
          "output_type": "stream",
          "text": [
            "[2.23323711 1.72790405 1.12429627 ... 0.6616792  0.91490411 0.9045741 ]\n",
            "[1.92056088 1.92056088 1.18256758 ... 0.52815424 0.56585414 0.92791543]\n"
          ],
          "name": "stdout"
        }
      ]
    },
    {
      "cell_type": "code",
      "metadata": {
        "id": "rK5Xx_Zit25q",
        "colab_type": "code",
        "colab": {
          "base_uri": "https://localhost:8080/",
          "height": 35
        },
        "outputId": "032b4fcf-6b2f-4042-fac5-873ec1ff4b15"
      },
      "source": [
        "from sklearn.model_selection import train_test_split\n",
        "xtrain,xtest,ytrain,ytest=train_test_split(x,y,test_size=0.2)\n",
        "print(np.shape(xtrain),np.shape(ytest))"
      ],
      "execution_count": 9,
      "outputs": [
        {
          "output_type": "stream",
          "text": [
            "(824,) (206,)\n"
          ],
          "name": "stdout"
        }
      ]
    },
    {
      "cell_type": "code",
      "metadata": {
        "id": "Hg3FBzvjxKfU",
        "colab_type": "code",
        "colab": {
          "base_uri": "https://localhost:8080/",
          "height": 283
        },
        "outputId": "f1716b54-d71e-4e51-db42-fb1ea9bafbcf"
      },
      "source": [
        "plt.plot(xtrain, ytrain, 'b.')"
      ],
      "execution_count": 10,
      "outputs": [
        {
          "output_type": "execute_result",
          "data": {
            "text/plain": [
              "[<matplotlib.lines.Line2D at 0x7f50bcf8a828>]"
            ]
          },
          "metadata": {
            "tags": []
          },
          "execution_count": 10
        },
        {
          "output_type": "display_data",
          "data": {
            "image/png": "[encoded data removed]",
            "text/plain": [
              "<Figure size 432x288 with 1 Axes>"
            ]
          },
          "metadata": {
            "tags": [],
            "needs_background": "light"
          }
        }
      ]
    },
    {
      "cell_type": "code",
      "metadata": {
        "id": "ZB8cXDt8xQEK",
        "colab_type": "code",
        "colab": {
          "base_uri": "https://localhost:8080/",
          "height": 283
        },
        "outputId": "b18dbba8-ca59-4a54-e48d-c7ebbf80ea1b"
      },
      "source": [
        "plt.plot(xtest, ytest, 'r.')"
      ],
      "execution_count": 11,
      "outputs": [
        {
          "output_type": "execute_result",
          "data": {
            "text/plain": [
              "[<matplotlib.lines.Line2D at 0x7f50bca5d470>]"
            ]
          },
          "metadata": {
            "tags": []
          },
          "execution_count": 11
        },
        {
          "output_type": "display_data",
          "data": {
            "image/png": "[encoded data removed]",
            "text/plain": [
              "<Figure size 432x288 with 1 Axes>"
            ]
          },
          "metadata": {
            "tags": [],
            "needs_background": "light"
          }
        }
      ]
    },
    {
      "cell_type": "code",
      "metadata": {
        "id": "_sERPdLwxse8",
        "colab_type": "code",
        "colab": {}
      },
      "source": [
        "def hypothesis(a,b,x):\n",
        "  return a*x + b"
      ],
      "execution_count": 12,
      "outputs": []
    },
    {
      "cell_type": "code",
      "metadata": {
        "id": "YRzF1jIiyHXb",
        "colab_type": "code",
        "colab": {}
      },
      "source": [
        "def error(a,b,x,y):\n",
        "  e = 0\n",
        "  m = len(y)\n",
        "  for i in range(m):\n",
        "    e += np.power((hypothesis(a,b,x[i])-y[i]),2)\n",
        "  return (1/(2*m)) *e"
      ],
      "execution_count": 13,
      "outputs": []
    },
    {
      "cell_type": "code",
      "metadata": {
        "id": "axn95z07yLzU",
        "colab_type": "code",
        "colab": {}
      },
      "source": [
        "def step_gradiet(a,b,x,y,learning_rate):\n",
        "  grad_a = 0\n",
        "  grad_b = 0\n",
        "  m = len(x)\n",
        "  for i in range(m):\n",
        "    grad_a += 1/m * (hypothesis(a,b,x[i])-y[i]) *x[i]\n",
        "    grad_b += 1/m * (hypothesis(a,b,x[i])-y[i])\n",
        "  a = a- (grad_a * learning_rate)\n",
        "  b = b- (grad_b * learning_rate)\n",
        "  return a,b"
      ],
      "execution_count": 14,
      "outputs": []
    },
    {
      "cell_type": "code",
      "metadata": {
        "id": "_bbEM7bayPfr",
        "colab_type": "code",
        "colab": {}
      },
      "source": [
        "def descend(initial_a, initial_b, x,y,learning_rate, iterations):\n",
        "  a = initial_a\n",
        "  b = initial_b\n",
        "  for i in range(iterations):\n",
        "    e = error(a,b,x,y)\n",
        "    if i % 1000 ==0:\n",
        "      print(f\"Error: {e}, a: {a}, b: {b}\")\n",
        "    a,b = step_gradiet(a,b,x,y,learning_rate)\n",
        "  return a,b"
      ],
      "execution_count": 15,
      "outputs": []
    },
    {
      "cell_type": "code",
      "metadata": {
        "id": "QRwIxsvNySSz",
        "colab_type": "code",
        "colab": {
          "base_uri": "https://localhost:8080/",
          "height": 195
        },
        "outputId": "20802a4e-9919-4743-db15-69f53becd851"
      },
      "source": [
        "a = 0\n",
        "b = 1\n",
        "learning_rate = 0.01\n",
        "iterations = 10000\n",
        "final_a, final_b = descend(a,b,xtrain, ytrain, learning_rate, iterations)"
      ],
      "execution_count": 16,
      "outputs": [
        {
          "output_type": "stream",
          "text": [
            "Error: 0.06889872270530348, a: 0, b: 1\n",
            "Error: 0.05424990402155835, a: 0.26042387811746676, b: 0.7585102321103333\n",
            "Error: 0.052448901276522256, a: 0.34662069724535644, b: 0.6625837470554471\n",
            "Error: 0.05220945109976564, a: 0.37805049838122773, b: 0.6276062341930941\n",
            "Error: 0.05217761528646288, a: 0.3895106938916913, b: 0.6148524425244978\n",
            "Error: 0.05217338259379012, a: 0.3936894056999619, b: 0.610202048925442\n",
            "Error: 0.05217281984117276, a: 0.3952130823563187, b: 0.6085063837312719\n",
            "Error: 0.05217274502106819, a: 0.3957686580120823, b: 0.6078880961843199\n",
            "Error: 0.05217273507345023, a: 0.395971236628739, b: 0.6076626510362866\n",
            "Error: 0.05217273375087653, a: 0.39604510252891084, b: 0.607580447351249\n"
          ],
          "name": "stdout"
        }
      ]
    },
    {
      "cell_type": "code",
      "metadata": {
        "id": "HT49-6o-yVCz",
        "colab_type": "code",
        "colab": {
          "base_uri": "https://localhost:8080/",
          "height": 52
        },
        "outputId": "8111a29f-a887-471a-e086-795769ae302e"
      },
      "source": [
        "print(error(a,b,xtrain, ytrain))\n",
        "print(error(final_a,final_b, xtrain, ytrain))"
      ],
      "execution_count": 17,
      "outputs": [
        {
          "output_type": "stream",
          "text": [
            "0.06889872270530348\n",
            "0.05217273357503525\n"
          ],
          "name": "stdout"
        }
      ]
    },
    {
      "cell_type": "code",
      "metadata": {
        "id": "E_dUskRVy-VU",
        "colab_type": "code",
        "colab": {
          "base_uri": "https://localhost:8080/",
          "height": 35
        },
        "outputId": "e6eeea51-2d64-443c-e3eb-8b9714327f54"
      },
      "source": [
        "err=error(final_a, final_b, xtest, ytest)\n",
        "err"
      ],
      "execution_count": 18,
      "outputs": [
        {
          "output_type": "execute_result",
          "data": {
            "text/plain": [
              "0.05087025117491774"
            ]
          },
          "metadata": {
            "tags": []
          },
          "execution_count": 18
        }
      ]
    },
    {
      "cell_type": "code",
      "metadata": {
        "id": "94ONFnEozD53",
        "colab_type": "code",
        "colab": {
          "base_uri": "https://localhost:8080/",
          "height": 35
        },
        "outputId": "cd7f0d8c-6bd8-41d9-c48c-1e884b382ce6"
      },
      "source": [
        "accuracy=(1-err)*100\n",
        "accuracy"
      ],
      "execution_count": 19,
      "outputs": [
        {
          "output_type": "execute_result",
          "data": {
            "text/plain": [
              "94.91297488250822"
            ]
          },
          "metadata": {
            "tags": []
          },
          "execution_count": 19
        }
      ]
    },
    {
      "cell_type": "code",
      "metadata": {
        "id": "VELCKUuNzA2_",
        "colab_type": "code",
        "colab": {
          "base_uri": "https://localhost:8080/",
          "height": 300
        },
        "outputId": "1c0a7567-ff5d-4ba4-9f3e-a52a5ea2d102"
      },
      "source": [
        "plt.plot(xtest, ytest, 'r.', xtest, hypothesis(final_a, final_b, xtest), 'g')"
      ],
      "execution_count": 20,
      "outputs": [
        {
          "output_type": "execute_result",
          "data": {
            "text/plain": [
              "[<matplotlib.lines.Line2D at 0x7f50bc9d0748>,\n",
              " <matplotlib.lines.Line2D at 0x7f50bc9d0828>]"
            ]
          },
          "metadata": {
            "tags": []
          },
          "execution_count": 20
        },
        {
          "output_type": "display_data",
          "data": {
            "image/png": "[encoded data removed]",
            "text/plain": [
              "<Figure size 432x288 with 1 Axes>"
            ]
          },
          "metadata": {
            "tags": [],
            "needs_background": "light"
          }
        }
      ]
    },
    {
      "cell_type": "code",
      "metadata": {
        "id": "p7VfzkDh0hRg",
        "colab_type": "code",
        "colab": {}
      },
      "source": [
        ""
      ],
      "execution_count": null,
      "outputs": []
    }
  ]
}